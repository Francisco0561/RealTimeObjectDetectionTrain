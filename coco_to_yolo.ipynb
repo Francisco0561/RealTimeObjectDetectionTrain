{
 "cells": [
  {
   "cell_type": "code",
   "execution_count": 2,
   "id": "779db672-f896-4b7e-9760-3118dda2e9cc",
   "metadata": {
    "editable": true,
    "slideshow": {
     "slide_type": ""
    },
    "tags": []
   },
   "outputs": [
    {
     "name": "stderr",
     "output_type": "stream",
     "text": [
      "Converting COCO to YOLO (Cars Only): 100%|██████████| 118287/118287 [45:15<00:00, 43.56image/s]\n"
     ]
    }
   ],
   "source": [
    "import json\n",
    "import os\n",
    "from tqdm import tqdm\n",
    "from multiprocessing import Pool\n",
    "\n",
    "# Paths\n",
    "input_json = \"data/coco/annotations/instances_train2017.json\"  # Path to your COCO annotation file\n",
    "output_dir = \"data/coco/labels/train2017\"                      # Directory to save YOLO-format labels\n",
    "os.makedirs(output_dir, exist_ok=True)\n",
    "\n",
    "# Load COCO annotations\n",
    "with open(input_json, 'r') as f:\n",
    "    data = json.load(f)\n",
    "\n",
    "# Filter for car category only (category_id 3 for \"car\" in COCO)\n",
    "car_category_id = 3\n",
    "\n",
    "# Map categories\n",
    "categories = {cat['id']: cat['name'] for cat in data['categories']}\n",
    "category_id_to_index = {cat_id: idx for idx, cat_id in enumerate(categories.keys()) if categories[cat_id] == \"car\"}\n",
    "\n",
    "# Function to process a single image and save its car annotations in YOLO format\n",
    "def process_image(img):\n",
    "    img_id = img['id']\n",
    "    img_width = img['width']\n",
    "    img_height = img['height']\n",
    "    img_name = os.path.splitext(img['file_name'])[0]\n",
    "    label_path = os.path.join(output_dir, f\"{img_name}.txt\")\n",
    "\n",
    "    # Get car annotations for the current image\n",
    "    car_annotations = [ann for ann in data['annotations'] if ann['image_id'] == img_id and ann['category_id'] == car_category_id]\n",
    "\n",
    "    # Skip images with no car annotations\n",
    "    if not car_annotations:\n",
    "        return\n",
    "\n",
    "    # Write YOLO-format labels for the current image\n",
    "    with open(label_path, 'w') as label_file:\n",
    "        for ann in car_annotations:\n",
    "            bbox = ann['bbox']\n",
    "            x_center = (bbox[0] + bbox[2] / 2) / img_width\n",
    "            y_center = (bbox[1] + bbox[3] / 2) / img_height\n",
    "            width = bbox[2] / img_width\n",
    "            height = bbox[3] / img_height\n",
    "\n",
    "            # Write YOLO format: <class_id> <x_center> <y_center> <width> <height>\n",
    "            # Since this is car-only detection, class_id is always 0\n",
    "            class_id = 0\n",
    "            label_file.write(f\"{class_id} {x_center:.6f} {y_center:.6f} {width:.6f} {height:.6f}\\n\")\n",
    "\n",
    "# Run the conversion in parallel using multiple cores\n",
    "if __name__ == \"__main__\":\n",
    "    with Pool() as pool:\n",
    "        list(tqdm(pool.imap(process_image, data['images']), total=len(data['images']), desc=\"Converting COCO to YOLO (Cars Only)\", unit=\"image\"))\n"
   ]
  },
  {
   "cell_type": "code",
   "execution_count": 3,
   "id": "c73e89cc-c773-437d-a3ec-c9e0a6791507",
   "metadata": {
    "editable": true,
    "slideshow": {
     "slide_type": ""
    },
    "tags": []
   },
   "outputs": [
    {
     "name": "stderr",
     "output_type": "stream",
     "text": [
      "Converting COCO to YOLO (Cars Only): 100%|██████████| 5000/5000 [00:04<00:00, 1057.83image/s]\n"
     ]
    }
   ],
   "source": [
    "import json\n",
    "import os\n",
    "from tqdm import tqdm\n",
    "from multiprocessing import Pool\n",
    "\n",
    "# Paths\n",
    "input_json = \"data/coco/annotations/instances_val2017.json\"  # Path to your COCO annotation file\n",
    "output_dir = \"data/coco/labels/val2017\"                      # Directory to save YOLO-format labels\n",
    "os.makedirs(output_dir, exist_ok=True)\n",
    "\n",
    "# Load COCO annotations\n",
    "with open(input_json, 'r') as f:\n",
    "    data = json.load(f)\n",
    "\n",
    "# Filter for car category only (category_id 3 for \"car\" in COCO)\n",
    "car_category_id = 3\n",
    "\n",
    "# Map categories\n",
    "categories = {cat['id']: cat['name'] for cat in data['categories']}\n",
    "category_id_to_index = {cat_id: idx for idx, cat_id in enumerate(categories.keys()) if categories[cat_id] == \"car\"}\n",
    "\n",
    "# Function to process a single image and save its car annotations in YOLO format\n",
    "def process_image(img):\n",
    "    img_id = img['id']\n",
    "    img_width = img['width']\n",
    "    img_height = img['height']\n",
    "    img_name = os.path.splitext(img['file_name'])[0]\n",
    "    label_path = os.path.join(output_dir, f\"{img_name}.txt\")\n",
    "\n",
    "    # Get car annotations for the current image\n",
    "    car_annotations = [ann for ann in data['annotations'] if ann['image_id'] == img_id and ann['category_id'] == car_category_id]\n",
    "\n",
    "    # Skip images with no car annotations\n",
    "    if not car_annotations:\n",
    "        return\n",
    "\n",
    "    # Write YOLO-format labels for the current image\n",
    "    with open(label_path, 'w') as label_file:\n",
    "        for ann in car_annotations:\n",
    "            bbox = ann['bbox']\n",
    "            x_center = (bbox[0] + bbox[2] / 2) / img_width\n",
    "            y_center = (bbox[1] + bbox[3] / 2) / img_height\n",
    "            width = bbox[2] / img_width\n",
    "            height = bbox[3] / img_height\n",
    "\n",
    "            # Write YOLO format: <class_id> <x_center> <y_center> <width> <height>\n",
    "            # Since this is car-only detection, class_id is always 0\n",
    "            class_id = 0\n",
    "            label_file.write(f\"{class_id} {x_center:.6f} {y_center:.6f} {width:.6f} {height:.6f}\\n\")\n",
    "\n",
    "# Run the conversion in parallel using multiple cores\n",
    "if __name__ == \"__main__\":\n",
    "    with Pool() as pool:\n",
    "        list(tqdm(pool.imap(process_image, data['images']), total=len(data['images']), desc=\"Converting COCO to YOLO (Cars Only)\", unit=\"image\"))\n"
   ]
  }
 ],
 "metadata": {
  "kernelspec": {
   "display_name": "Python 3 (ipykernel)",
   "language": "python",
   "name": "python3"
  },
  "language_info": {
   "codemirror_mode": {
    "name": "ipython",
    "version": 3
   },
   "file_extension": ".py",
   "mimetype": "text/x-python",
   "name": "python",
   "nbconvert_exporter": "python",
   "pygments_lexer": "ipython3",
   "version": "3.11.10"
  }
 },
 "nbformat": 4,
 "nbformat_minor": 5
}
